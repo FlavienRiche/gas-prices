{
 "cells": [
  {
   "cell_type": "code",
   "execution_count": null,
   "metadata": {
    "collapsed": true
   },
   "outputs": [],
   "source": [
    "import pandas as pd\n",
    "import os\n",
    "import json\n",
    "import glob\n",
    "import sqlite3"
   ]
  },
  {
   "cell_type": "code",
   "execution_count": null,
   "metadata": {
    "collapsed": true
   },
   "outputs": [],
   "source": []
  },
  {
   "cell_type": "code",
   "execution_count": null,
   "metadata": {
    "collapsed": true
   },
   "outputs": [],
   "source": [
    "#ouvert les paramètres décrits dans le fichier JSON\n",
    "with open('../parameters.json') as json_data:\n",
    "    params = json.load(json_data)\n"
   ]
  },
  {
   "cell_type": "code",
   "execution_count": null,
   "metadata": {
    "collapsed": true
   },
   "outputs": [],
   "source": [
    "params"
   ]
  },
  {
   "cell_type": "code",
   "execution_count": null,
   "metadata": {
    "collapsed": true
   },
   "outputs": [],
   "source": [
    "#utilisation des paramètres pour créer un DATA et TMP\n",
    "DATA_DIR = params['DIRECTORIES']['DATA_DIR']\n",
    "TMP_DIR = params['DIRECTORIES']['TMP_DIR']\n",
    "PRICE_FILE = params['FILES']['PRICE_FILE']\n",
    "STATION_FILE = params['FILES']['STATION_FILE']\n",
    "SERVICE_FILE = params['FILES']['SERVICE_FILE']\n",
    "GAS_DB = os.path.join(DATA_DIR, params['DATABASE']['GAS_DB'])"
   ]
  },
  {
   "cell_type": "raw",
   "metadata": {
    "collapsed": true
   },
   "source": [
    "#Alernatives à la méthode avec paramètre JSON (paramètre en durs)\n",
    "#répertoire de données\n",
    "#données\n",
    "DATA_DIR = \"../../data\"\n",
    "\n",
    "#repertoire temporaire\n",
    "TMP_DIR = \"../../tmp\""
   ]
  },
  {
   "cell_type": "code",
   "execution_count": null,
   "metadata": {
    "collapsed": true
   },
   "outputs": [],
   "source": [
    "gas_files = glob.glob(os.path.join(DATA_DIR,\"Prix*.zip\"))\n",
    "gas_files\n"
   ]
  },
  {
   "cell_type": "code",
   "execution_count": null,
   "metadata": {
    "collapsed": true
   },
   "outputs": [],
   "source": [
    "stations_file = 'Stations2016.zip'\n",
    "service_file = 'Services2016.zip'\n"
   ]
  },
  {
   "cell_type": "code",
   "execution_count": null,
   "metadata": {
    "collapsed": true
   },
   "outputs": [],
   "source": [
    "#ouverture de la table\n",
    "#df2014 = pd.read_csv(os.path.join(DATA_DIR, gas_files[0]), sep=\";\", header=None, dtype = {1 : str})\n",
    "df2014 = pd.read_csv(gas_files[0], sep=\";\", header=None, dtype = {1 : str})\n",
    "df2014.columns = ['id_stations', \n",
    "                  'code_postal',\n",
    "                  'type_station', \n",
    "                  'latitude',\n",
    "                  'longitude',\n",
    "                  'date_releve',\n",
    "                  'type_carburant', \n",
    "                 'libelle_carburant',\n",
    "                  'prix']"
   ]
  },
  {
   "cell_type": "code",
   "execution_count": null,
   "metadata": {
    "collapsed": true
   },
   "outputs": [],
   "source": [
    "df2014.head()"
   ]
  },
  {
   "cell_type": "code",
   "execution_count": null,
   "metadata": {
    "collapsed": true
   },
   "outputs": [],
   "source": [
    "dfall = pd.DataFrame()\n",
    "\n",
    "for year in gas_files:\n",
    "    df = pd.read_csv(year,\n",
    "                     sep=';', header=None, dtype = {1: str}\n",
    "                    )\n",
    "    df.columns = ['id_station', 'code_postal', 'type_station',\n",
    "                  'latitude', 'longitude', 'date_releve',\n",
    "                  'type_carburant', 'libelle_carburant', 'prix']\n",
    "    dfall = pd.concat([dfall, df], axis=0)\n",
    "\n",
    "assert dfall.shape[1] == 9, \"Pas le bon nombre de colonnes\""
   ]
  },
  {
   "cell_type": "code",
   "execution_count": null,
   "metadata": {
    "collapsed": true
   },
   "outputs": [],
   "source": [
    "dfall"
   ]
  },
  {
   "cell_type": "code",
   "execution_count": null,
   "metadata": {
    "collapsed": true
   },
   "outputs": [],
   "source": []
  },
  {
   "cell_type": "code",
   "execution_count": null,
   "metadata": {
    "collapsed": true
   },
   "outputs": [],
   "source": [
    "#donne la liste des fichiers\n",
    "import glob\n",
    "\n",
    "gas_files = glob.glob(os.path.join(DATA_DIR,\"Prix*.zip\"))"
   ]
  },
  {
   "cell_type": "code",
   "execution_count": null,
   "metadata": {
    "collapsed": true
   },
   "outputs": [],
   "source": [
    "gas_files"
   ]
  },
  {
   "cell_type": "code",
   "execution_count": null,
   "metadata": {
    "collapsed": true
   },
   "outputs": [],
   "source": [
    "dfstations = pd.read_csv(os.path.join(DATA_DIR, stations_file),sep =\"|\", encoding ='utf-8', header = None, dtype = {1 : str})\n",
    "\n",
    "dfstations.columns = ['id_station', 'code_postal', 'type_de_station', 'latitude', 'longitude', 'adresse', 'ville']"
   ]
  },
  {
   "cell_type": "code",
   "execution_count": null,
   "metadata": {
    "collapsed": true
   },
   "outputs": [],
   "source": [
    "dfstations.head()"
   ]
  },
  {
   "cell_type": "code",
   "execution_count": null,
   "metadata": {
    "collapsed": true
   },
   "outputs": [],
   "source": [
    "dfservices = pd.read_csv(os.path.join(DATA_DIR, service_file),sep =\"|\", encoding ='utf-8', header = None, dtype = {1 : str})\n",
    "\n",
    "dfservices.columns = ['id_station', 'code_postal', 'type_de_station', 'latitude', 'longitude', 'services']"
   ]
  },
  {
   "cell_type": "code",
   "execution_count": null,
   "metadata": {
    "collapsed": true
   },
   "outputs": [],
   "source": [
    "dfservices.head()"
   ]
  },
  {
   "cell_type": "code",
   "execution_count": null,
   "metadata": {
    "collapsed": true
   },
   "outputs": [],
   "source": [
    "dfall.to_pickle(os.path.join(DATA_DIR, PRICE_FILE))\n",
    "dfstations.to_pickle(os.path.join(DATA_DIR, STATION_FILE))\n",
    "dfservices.to_pickle(os.path.join(DATA_DIR, SERVICE_FILE))"
   ]
  },
  {
   "cell_type": "code",
   "execution_count": null,
   "metadata": {
    "collapsed": true
   },
   "outputs": [],
   "source": [
    "# test le temps de lecture\n",
    "%timeit\n",
    "testdf = pd.read_pickle(os.path.join(DATA_DIR, PRICE_FILE))"
   ]
  },
  {
   "cell_type": "code",
   "execution_count": null,
   "metadata": {
    "collapsed": true
   },
   "outputs": [],
   "source": [
    "cnx = sqlite3.connect(GAS_DB)\n",
    "dfall.to_sql('prices', cnx ,index = False, if_exists = \"replace\")"
   ]
  },
  {
   "cell_type": "code",
   "execution_count": null,
   "metadata": {
    "collapsed": true
   },
   "outputs": [],
   "source": [
    "dfservices.to_sql('Services', cnx, index = False, if_exists = \"replace\")\n",
    "dfstations.to_sql('Stations', cnx, index = False, if_exists = \"replace\")"
   ]
  },
  {
   "cell_type": "code",
   "execution_count": null,
   "metadata": {
    "collapsed": true
   },
   "outputs": [],
   "source": [
    "pd.read_sql_query('select * from prices where code_postal =\"13001\"', cnx)"
   ]
  },
  {
   "cell_type": "markdown",
   "metadata": {},
   "source": [
    "## Fin du Script de chargement"
   ]
  },
  {
   "cell_type": "code",
   "execution_count": null,
   "metadata": {
    "collapsed": true
   },
   "outputs": [],
   "source": [
    "cur = cnx.cursor()"
   ]
  },
  {
   "cell_type": "code",
   "execution_count": null,
   "metadata": {
    "collapsed": true
   },
   "outputs": [],
   "source": [
    "cur.execute('select * from prices where prix >1400')\n",
    "res = cur.fetchall()"
   ]
  },
  {
   "cell_type": "code",
   "execution_count": null,
   "metadata": {
    "collapsed": true
   },
   "outputs": [],
   "source": [
    "res_df = pd.read_sql_query('select * from prices where prix >1400', cnx)"
   ]
  },
  {
   "cell_type": "raw",
   "metadata": {},
   "source": []
  },
  {
   "cell_type": "code",
   "execution_count": null,
   "metadata": {
    "collapsed": true
   },
   "outputs": [],
   "source": [
    "import numpy as np"
   ]
  },
  {
   "cell_type": "code",
   "execution_count": null,
   "metadata": {
    "collapsed": true
   },
   "outputs": [],
   "source": [
    "dfall['date_releve'] = pd.to_datetime(dfall.date_releve)"
   ]
  },
  {
   "cell_type": "code",
   "execution_count": null,
   "metadata": {
    "collapsed": true
   },
   "outputs": [],
   "source": []
  },
  {
   "cell_type": "code",
   "execution_count": null,
   "metadata": {
    "collapsed": true
   },
   "outputs": [],
   "source": [
    "dfall['semaine'] = dfall.date_releve.dt.week + 52 * (dfall.date_releve.dt.year - 2014)\n"
   ]
  },
  {
   "cell_type": "code",
   "execution_count": null,
   "metadata": {
    "collapsed": true
   },
   "outputs": [],
   "source": [
    "moyenne_hebdo_df = (dfall\n",
    "    .dropna(subset=['date_releve'])\n",
    "    .groupby(['libelle_carburant', pd.Grouper(key = \"date_releve\", freq =\"2W-MON\" )])\n",
    "    .agg({'prix': np.mean})\n",
    "                   ).reset_index()"
   ]
  },
  {
   "cell_type": "code",
   "execution_count": null,
   "metadata": {
    "collapsed": true
   },
   "outputs": [],
   "source": [
    "import matplotlib.pyplot as plt\n",
    "import seaborn as sns\n",
    "%matplotlib inline"
   ]
  },
  {
   "cell_type": "code",
   "execution_count": null,
   "metadata": {
    "collapsed": true
   },
   "outputs": [],
   "source": [
    "graph = sns.FacetGrid((moyenne_hebdo_df), hue=\"libelle_carburant\",  size =10, aspect=4/3)\n",
    "graph.map(plt.plot, \"date_releve\",\"prix\")"
   ]
  },
  {
   "cell_type": "code",
   "execution_count": null,
   "metadata": {
    "collapsed": true
   },
   "outputs": [],
   "source": [
    "graph"
   ]
  },
  {
   "cell_type": "code",
   "execution_count": null,
   "metadata": {
    "collapsed": true
   },
   "outputs": [],
   "source": [
    "dfservices.head()"
   ]
  },
  {
   "cell_type": "code",
   "execution_count": null,
   "metadata": {
    "collapsed": true
   },
   "outputs": [],
   "source": [
    "dfservices.services.str.split(\",\")"
   ]
  },
  {
   "cell_type": "code",
   "execution_count": null,
   "metadata": {
    "collapsed": true
   },
   "outputs": [],
   "source": [
    "from sklearn.feature_extraction.text import CountVectorizer"
   ]
  },
  {
   "cell_type": "code",
   "execution_count": 149,
   "metadata": {
    "collapsed": true
   },
   "outputs": [],
   "source": [
    "dfservices[\"listes_services\"] = dfservices.services.str.split(\",\")"
   ]
  },
  {
   "cell_type": "code",
   "execution_count": null,
   "metadata": {
    "collapsed": true
   },
   "outputs": [],
   "source": [
    "vectorize = CountVectorizer()\n",
    "vectorize.fit(df)"
   ]
  },
  {
   "cell_type": "code",
   "execution_count": 158,
   "metadata": {
    "collapsed": true
   },
   "outputs": [],
   "source": [
    "_tokenize = lambda x: x.split(',')"
   ]
  },
  {
   "cell_type": "code",
   "execution_count": 161,
   "metadata": {
    "collapsed": true
   },
   "outputs": [],
   "source": [
    "vectorize = CountVectorizer(tokenizer= _tokenize, lowercase=False)"
   ]
  },
  {
   "cell_type": "code",
   "execution_count": 162,
   "metadata": {},
   "outputs": [
    {
     "data": {
      "text/plain": [
       "<12391x25 sparse matrix of type '<class 'numpy.int64'>'\n",
       "\twith 75115 stored elements in Compressed Sparse Row format>"
      ]
     },
     "execution_count": 162,
     "metadata": {},
     "output_type": "execute_result"
    }
   ],
   "source": [
    "vectorize.fit_transform(dfservices.services.fillna('Rien'))"
   ]
  },
  {
   "cell_type": "code",
   "execution_count": 163,
   "metadata": {},
   "outputs": [
    {
     "data": {
      "text/plain": [
       "{'Aire de camping-cars': 0,\n",
       " 'Automate CB': 1,\n",
       " 'Baie de service auto': 2,\n",
       " 'Bar': 3,\n",
       " 'Boutique alimentaire': 4,\n",
       " 'Boutique non alimentaire': 5,\n",
       " 'Carburant qualité supérieure': 6,\n",
       " 'Douches': 7,\n",
       " 'Espace bébé / change': 8,\n",
       " 'GPL': 9,\n",
       " 'Lavage haute-pression': 10,\n",
       " 'Lavage multi-programmes': 11,\n",
       " 'Laverie': 12,\n",
       " 'Location de véhicule': 13,\n",
       " 'Piste poids lourds': 14,\n",
       " 'Relais colis': 15,\n",
       " 'Restauration sur place': 16,\n",
       " 'Restauration à emporter': 17,\n",
       " 'Rien': 18,\n",
       " 'Station de gonflage': 19,\n",
       " 'Station de lavage': 20,\n",
       " 'Toilettes publiques': 21,\n",
       " 'Vente de fioul domestique': 22,\n",
       " 'Vente de gaz domestique': 23,\n",
       " 'Vente de pétrole lampant': 24}"
      ]
     },
     "execution_count": 163,
     "metadata": {},
     "output_type": "execute_result"
    }
   ],
   "source": [
    "vectorize.vocabulary_"
   ]
  },
  {
   "cell_type": "code",
   "execution_count": null,
   "metadata": {
    "collapsed": true
   },
   "outputs": [],
   "source": []
  },
  {
   "cell_type": "code",
   "execution_count": null,
   "metadata": {
    "collapsed": true
   },
   "outputs": [],
   "source": []
  },
  {
   "cell_type": "code",
   "execution_count": null,
   "metadata": {
    "collapsed": true
   },
   "outputs": [],
   "source": []
  }
 ],
 "metadata": {
  "kernelspec": {
   "display_name": "Python 3",
   "language": "python",
   "name": "python3"
  },
  "language_info": {
   "codemirror_mode": {
    "name": "ipython",
    "version": 3
   },
   "file_extension": ".py",
   "mimetype": "text/x-python",
   "name": "python",
   "nbconvert_exporter": "python",
   "pygments_lexer": "ipython3",
   "version": "3.6.1"
  }
 },
 "nbformat": 4,
 "nbformat_minor": 2
}
